{
 "cells": [
  {
   "cell_type": "code",
   "execution_count": 1,
   "id": "2708aa90",
   "metadata": {},
   "outputs": [],
   "source": [
    "import nltk\n",
    "import pandas as pd\n",
    "import numpy\n",
    "\n",
    "file_path = 'ISIS Dataset.csv'  # Replace with the actual file path\n",
    "df = pd.read_csv(file_path)\n"
   ]
  },
  {
   "cell_type": "code",
   "execution_count": 2,
   "id": "a92fc2b0",
   "metadata": {},
   "outputs": [],
   "source": [
    "import pandas as pd\n",
    "from sklearn.feature_extraction.text import TfidfVectorizer\n",
    "from sklearn.model_selection import train_test_split\n",
    "\n",
    "# Load the dataset\n",
    "file_path = 'ISIS Dataset.csv'\n",
    "data = pd.read_csv(file_path)\n",
    "\n",
    "# Assuming there's a column named 'Text' that contains the text data\n",
    "# and 'Label' that contains the label whether the text is extremist or not\n",
    "text_data = data['cleaned_text']\n",
    "labels = data['Labels']\n",
    "\n",
    "# Preprocess the data (basic preprocessing)\n",
    "# Lowercase, remove punctuation, etc.\n",
    "text_data = text_data.str.lower().str.replace('[^\\w\\s]', ' ', regex=True)\n",
    "\n",
    "# Initialize TF-IDF Vectorizer\n",
    "tfidf_vectorizer = TfidfVectorizer(max_features=1000, stop_words='english')\n",
    "\n",
    "# Fit and transform the text data to create TF-IDF features\n",
    "tfidf_features = tfidf_vectorizer.fit_transform(text_data)\n",
    "\n",
    "# Splitting the dataset into training and testing sets\n",
    "X_train, X_test, y_train, y_test = train_test_split(tfidf_features, labels, test_size=0.2, random_state=42)\n",
    "\n",
    "# X_train and y_train can be used to train a machine learning model\n",
    "# X_test and y_test can be used to evaluate the model\n",
    "\n"
   ]
  },
  {
   "cell_type": "code",
   "execution_count": 4,
   "id": "c18f8731",
   "metadata": {},
   "outputs": [
    {
     "name": "stdout",
     "output_type": "stream",
     "text": [
      "Best Parameters: {'classifier__C': 10, 'tfidf__max_features': 10000}\n",
      "Accuracy: 0.8211\n",
      "Precision: 0.5763\n",
      "Recall: 0.2500\n",
      "F1 Score: 0.3487\n",
      "ROC AUC Score: 0.6032\n",
      "Confusion Matrix:\n",
      "[[549  25]\n",
      " [102  34]]\n"
     ]
    },
    {
     "data": {
      "text/plain": [
       "['trained_pipeline.pkl']"
      ]
     },
     "execution_count": 4,
     "metadata": {},
     "output_type": "execute_result"
    }
   ],
   "source": [
    "import pandas as pd\n",
    "import joblib\n",
    "from sklearn.feature_extraction.text import TfidfVectorizer\n",
    "from sklearn.model_selection import train_test_split, GridSearchCV\n",
    "from sklearn.pipeline import Pipeline\n",
    "from sklearn.svm import SVC\n",
    "from sklearn.metrics import accuracy_score, precision_score, recall_score, f1_score, roc_auc_score, confusion_matrix\n",
    "\n",
    "# Load the dataset\n",
    "df = pd.read_csv('ISIS Dataset.csv')\n",
    "\n",
    "# Define features (text data) and target variable\n",
    "X = df['cleaned_text']\n",
    "y = df['Labels']\n",
    "\n",
    "# Split the dataset into training and testing sets\n",
    "X_train, X_test, y_train, y_test = train_test_split(X, y, test_size=0.2, random_state=42)\n",
    "\n",
    "# Define a TF-IDF vectorizer to convert text data into numerical features\n",
    "tfidf_vectorizer = TfidfVectorizer(max_features=10000, stop_words='english')\n",
    "\n",
    "# Define a SVM classifier\n",
    "svm_classifier = SVC(kernel='linear')\n",
    "\n",
    "# Create a pipeline combining the TF-IDF vectorizer and the SVM classifier\n",
    "pipeline = Pipeline([\n",
    "    ('tfidf', tfidf_vectorizer),\n",
    "    ('classifier', svm_classifier)\n",
    "])\n",
    "\n",
    "# Hyperparameter tuning using GridSearchCV\n",
    "param_grid = {\n",
    "    'tfidf__max_features': [10000, 20000, None],\n",
    "    'classifier__C': [0.1, 1, 10],\n",
    "}\n",
    "\n",
    "grid_search = GridSearchCV(pipeline, param_grid, cv=5, n_jobs=-1)\n",
    "grid_search.fit(X_train, y_train)\n",
    "\n",
    "# Get the best parameters\n",
    "best_params = grid_search.best_params_\n",
    "print(\"Best Parameters:\", best_params)\n",
    "\n",
    "# Train the model with the best parameters\n",
    "pipeline = grid_search.best_estimator_\n",
    "pipeline.fit(X_train, y_train)\n",
    "\n",
    "# Predict on the test set\n",
    "y_pred = pipeline.predict(X_test)\n",
    "\n",
    "# Evaluate the model\n",
    "accuracy = accuracy_score(y_test, y_pred)\n",
    "precision = precision_score(y_test, y_pred)\n",
    "recall = recall_score(y_test, y_pred)\n",
    "f1 = f1_score(y_test, y_pred)\n",
    "roc_auc = roc_auc_score(y_test, y_pred)\n",
    "conf_matrix = confusion_matrix(y_test, y_pred)\n",
    "\n",
    "print(f\"Accuracy: {accuracy:.4f}\")\n",
    "print(f\"Precision: {precision:.4f}\")\n",
    "print(f\"Recall: {recall:.4f}\")\n",
    "print(f\"F1 Score: {f1:.4f}\")\n",
    "print(f\"ROC AUC Score: {roc_auc:.4f}\")\n",
    "print(\"Confusion Matrix:\")\n",
    "print(conf_matrix)\n",
    "\n",
    "# Save the trained pipeline to a file\n",
    "joblib.dump(pipeline, 'trained_pipeline.pkl')\n"
   ]
  },
  {
   "cell_type": "code",
   "execution_count": 5,
   "id": "966bb261",
   "metadata": {},
   "outputs": [
    {
     "name": "stdout",
     "output_type": "stream",
     "text": [
      "Enter the content you want to analyze (type 'exit' to quit):\n",
      "> i enjoy ad hominoid attacks as it tells me you are an intellectual midget   my apology to littel people \n",
      "Prediction: Extremist\n",
      "> where s a fucking drone strike mishap when ya need one    sheesh      \n",
      "Prediction: Extremist\n",
      "> ask jonathan greenblatt if he disavows any of these things   if he does  lock him up in german jail for minimizing the hollow caust \n",
      "Prediction: Extremist\n",
      "> ho lee fuk  chinese restaurants in canada have sum ting wong with them  they are racist   lol  \n",
      "Prediction: Extremist\n",
      "> exit\n",
      "Exiting...\n"
     ]
    }
   ],
   "source": [
    "import joblib\n",
    "\n",
    "# Load the trained pipeline\n",
    "pipeline = joblib.load('trained_pipeline.pkl')  # Replace 'trained_pipeline.pkl' with the path to your trained pipeline file\n",
    "\n",
    "def predict_extremism(content):\n",
    "    # Predict whether the content is extremist or not\n",
    "    prediction = pipeline.predict([content])[0]\n",
    "    return 'Extremist' if prediction == 1 else 'Not Extremist'\n",
    "\n",
    "def main():\n",
    "    print(\"Enter the content you want to analyze (type 'exit' to quit):\")\n",
    "    while True:\n",
    "        content = input(\"> \")\n",
    "        if content.lower() == 'exit':\n",
    "            print(\"Exiting...\")\n",
    "            break\n",
    "        else:\n",
    "            result = predict_extremism(content)\n",
    "            print(f\"Prediction: {result}\")\n",
    "\n",
    "if __name__ == \"__main__\":\n",
    "    main()\n"
   ]
  },
  {
   "cell_type": "code",
   "execution_count": null,
   "id": "ef158658",
   "metadata": {},
   "outputs": [
    {
     "name": "stdout",
     "output_type": "stream",
     "text": [
      "Enter the content you want to analyze (type 'exit' to quit):\n"
     ]
    }
   ],
   "source": []
  },
  {
   "cell_type": "code",
   "execution_count": null,
   "id": "35ed0367",
   "metadata": {},
   "outputs": [],
   "source": []
  }
 ],
 "metadata": {
  "kernelspec": {
   "display_name": "Python 3 (ipykernel)",
   "language": "python",
   "name": "python3"
  },
  "language_info": {
   "codemirror_mode": {
    "name": "ipython",
    "version": 3
   },
   "file_extension": ".py",
   "mimetype": "text/x-python",
   "name": "python",
   "nbconvert_exporter": "python",
   "pygments_lexer": "ipython3",
   "version": "3.11.5"
  }
 },
 "nbformat": 4,
 "nbformat_minor": 5
}
